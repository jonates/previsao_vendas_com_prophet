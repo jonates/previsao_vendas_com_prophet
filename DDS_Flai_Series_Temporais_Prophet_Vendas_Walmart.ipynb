{
  "cells": [
    {
      "cell_type": "markdown",
      "source": [
        "![banner flai.jpg](data:image/jpeg;base64,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)"
      ],
      "metadata": {
        "id": "eiyKZ_22EPzl"
      }
    },
    {
      "cell_type": "markdown",
      "source": [
        "# **Previsão de Séries Temporais com Prophet**"
      ],
      "metadata": {
        "id": "as6tLI6jYyMk"
      }
    },
    {
      "cell_type": "markdown",
      "source": [
        "# **Vendas do Walmart**"
      ],
      "metadata": {
        "id": "bLAOgTJmNwvM"
      }
    },
    {
      "cell_type": "markdown",
      "source": [
        "## **Entendendo o contexto**"
      ],
      "metadata": {
        "id": "ayvb9pFaOA-a"
      }
    },
    {
      "cell_type": "markdown",
      "source": [
        "### **Walmart e as vendas**"
      ],
      "metadata": {
        "id": "wP5GklEvORYg"
      }
    },
    {
      "cell_type": "markdown",
      "source": [
        "Falar do Walmart.\n",
        "\n",
        "Falar das vendas\n",
        "\n"
      ],
      "metadata": {
        "id": "vlFozpf3NyxS"
      }
    },
    {
      "cell_type": "markdown",
      "source": [
        "![image.png](data:image/png;base64,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)"
      ],
      "metadata": {
        "id": "nfr3LCHE7nJf"
      }
    },
    {
      "cell_type": "markdown",
      "source": [
        "### **O Objetivo da Aula**"
      ],
      "metadata": {
        "id": "-_2r9KYzOp6_"
      }
    },
    {
      "cell_type": "markdown",
      "source": [
        "Prever vendas do walmart em um conjunto de lojas através do Prophet."
      ],
      "metadata": {
        "id": "wDNmUfCoOswG"
      }
    },
    {
      "cell_type": "markdown",
      "source": [
        "### **O dataset**"
      ],
      "metadata": {
        "id": "BD8bXwEgOWQf"
      }
    },
    {
      "cell_type": "markdown",
      "metadata": {
        "id": "MmdvEjWfsCPO"
      },
      "source": [
        "Estes conjuntos de dados, oriundos da Kaggle (https://www.kaggle.com/competitions/walmart-recruiting-store-sales-forecasting/rules) e (https://www.kaggle.com/code/fernandol/cracking-the-walmart-sales-forecasting-challenge/data?select=sample_submission.csv), foram estruturados de forma que cada instância é um departamento de uma loja em determinada semana do ano, e os atributos são:\n",
        "\n",
        "- **Store:** Número de identificação da loja;\t\n",
        "- **Dept**\tNúmero de identificação do departamento;\n",
        "- **Date:**\tData (representa uma semana);\n",
        "- **Weekly_Sales:**\tVendas da semana;\n",
        "- **IsHoliday:** A semana contém feriado (False ou True).\n",
        "\n",
        "Os conjunto de dados está disponível em um repositório no GitHub que pode ser acessado através do link:\n",
        "\n",
        "- https://raw.githubusercontent.com/jonates/opendata/master/vendas_walmart/train.csv;\n"
      ]
    },
    {
      "cell_type": "markdown",
      "metadata": {
        "id": "hh5ciotouPfh"
      },
      "source": [
        "## **Pré-Processamento**"
      ]
    },
    {
      "cell_type": "markdown",
      "source": [
        "### **Preparando o ambiente**"
      ],
      "metadata": {
        "id": "Hw9LHHQblPBg"
      }
    },
    {
      "cell_type": "code",
      "source": [
        "# Importando biblioteca necessária\n",
        "import pandas as pd\n",
        "import numpy as np\n",
        "from matplotlib import pyplot as plt\n",
        "from fbprophet import Prophet"
      ],
      "metadata": {
        "id": "SuBKicAPlUGP"
      },
      "execution_count": 1,
      "outputs": []
    },
    {
      "cell_type": "markdown",
      "metadata": {
        "id": "Mnhx3_3f0mPI"
      },
      "source": [
        "### **Carregando o conjunto de dados**"
      ]
    },
    {
      "cell_type": "code",
      "source": [
        "# Importando o conjunto de dados\n",
        "vendas = pd.read_csv(\n",
        "    filepath_or_buffer = 'https://raw.githubusercontent.com/jonates/opendata/master/vendas_walmart/train.csv', \n",
        "    sep=',',\n",
        "    decimal='.'\n",
        ")"
      ],
      "metadata": {
        "id": "WTdKurPaytp4"
      },
      "execution_count": 2,
      "outputs": []
    },
    {
      "cell_type": "markdown",
      "metadata": {
        "id": "EEse-qKZ5f9n"
      },
      "source": [
        "### **Espiando a estrutura dos dados**"
      ]
    },
    {
      "cell_type": "code",
      "source": [
        "# Espiando o conjunto de dados\n",
        "vendas.tail(5)"
      ],
      "metadata": {
        "id": "lE_5WTNPxke2",
        "colab": {
          "base_uri": "https://localhost:8080/",
          "height": 206
        },
        "outputId": "b74a5668-6312-40a7-a2d9-d4d05bae399f"
      },
      "execution_count": 3,
      "outputs": [
        {
          "output_type": "execute_result",
          "data": {
            "text/plain": [
              "        Store  Dept        Date  Weekly_Sales  IsHoliday\n",
              "421565     45    98  2012-09-28        508.37      False\n",
              "421566     45    98  2012-10-05        628.10      False\n",
              "421567     45    98  2012-10-12       1061.02      False\n",
              "421568     45    98  2012-10-19        760.01      False\n",
              "421569     45    98  2012-10-26       1076.80      False"
            ],
            "text/html": [
              "\n",
              "  <div id=\"df-1fb277cb-7cbb-488a-a16d-0abc97036d15\">\n",
              "    <div class=\"colab-df-container\">\n",
              "      <div>\n",
              "<style scoped>\n",
              "    .dataframe tbody tr th:only-of-type {\n",
              "        vertical-align: middle;\n",
              "    }\n",
              "\n",
              "    .dataframe tbody tr th {\n",
              "        vertical-align: top;\n",
              "    }\n",
              "\n",
              "    .dataframe thead th {\n",
              "        text-align: right;\n",
              "    }\n",
              "</style>\n",
              "<table border=\"1\" class=\"dataframe\">\n",
              "  <thead>\n",
              "    <tr style=\"text-align: right;\">\n",
              "      <th></th>\n",
              "      <th>Store</th>\n",
              "      <th>Dept</th>\n",
              "      <th>Date</th>\n",
              "      <th>Weekly_Sales</th>\n",
              "      <th>IsHoliday</th>\n",
              "    </tr>\n",
              "  </thead>\n",
              "  <tbody>\n",
              "    <tr>\n",
              "      <th>421565</th>\n",
              "      <td>45</td>\n",
              "      <td>98</td>\n",
              "      <td>2012-09-28</td>\n",
              "      <td>508.37</td>\n",
              "      <td>False</td>\n",
              "    </tr>\n",
              "    <tr>\n",
              "      <th>421566</th>\n",
              "      <td>45</td>\n",
              "      <td>98</td>\n",
              "      <td>2012-10-05</td>\n",
              "      <td>628.10</td>\n",
              "      <td>False</td>\n",
              "    </tr>\n",
              "    <tr>\n",
              "      <th>421567</th>\n",
              "      <td>45</td>\n",
              "      <td>98</td>\n",
              "      <td>2012-10-12</td>\n",
              "      <td>1061.02</td>\n",
              "      <td>False</td>\n",
              "    </tr>\n",
              "    <tr>\n",
              "      <th>421568</th>\n",
              "      <td>45</td>\n",
              "      <td>98</td>\n",
              "      <td>2012-10-19</td>\n",
              "      <td>760.01</td>\n",
              "      <td>False</td>\n",
              "    </tr>\n",
              "    <tr>\n",
              "      <th>421569</th>\n",
              "      <td>45</td>\n",
              "      <td>98</td>\n",
              "      <td>2012-10-26</td>\n",
              "      <td>1076.80</td>\n",
              "      <td>False</td>\n",
              "    </tr>\n",
              "  </tbody>\n",
              "</table>\n",
              "</div>\n",
              "      <button class=\"colab-df-convert\" onclick=\"convertToInteractive('df-1fb277cb-7cbb-488a-a16d-0abc97036d15')\"\n",
              "              title=\"Convert this dataframe to an interactive table.\"\n",
              "              style=\"display:none;\">\n",
              "        \n",
              "  <svg xmlns=\"http://www.w3.org/2000/svg\" height=\"24px\"viewBox=\"0 0 24 24\"\n",
              "       width=\"24px\">\n",
              "    <path d=\"M0 0h24v24H0V0z\" fill=\"none\"/>\n",
              "    <path d=\"M18.56 5.44l.94 2.06.94-2.06 2.06-.94-2.06-.94-.94-2.06-.94 2.06-2.06.94zm-11 1L8.5 8.5l.94-2.06 2.06-.94-2.06-.94L8.5 2.5l-.94 2.06-2.06.94zm10 10l.94 2.06.94-2.06 2.06-.94-2.06-.94-.94-2.06-.94 2.06-2.06.94z\"/><path d=\"M17.41 7.96l-1.37-1.37c-.4-.4-.92-.59-1.43-.59-.52 0-1.04.2-1.43.59L10.3 9.45l-7.72 7.72c-.78.78-.78 2.05 0 2.83L4 21.41c.39.39.9.59 1.41.59.51 0 1.02-.2 1.41-.59l7.78-7.78 2.81-2.81c.8-.78.8-2.07 0-2.86zM5.41 20L4 18.59l7.72-7.72 1.47 1.35L5.41 20z\"/>\n",
              "  </svg>\n",
              "      </button>\n",
              "      \n",
              "  <style>\n",
              "    .colab-df-container {\n",
              "      display:flex;\n",
              "      flex-wrap:wrap;\n",
              "      gap: 12px;\n",
              "    }\n",
              "\n",
              "    .colab-df-convert {\n",
              "      background-color: #E8F0FE;\n",
              "      border: none;\n",
              "      border-radius: 50%;\n",
              "      cursor: pointer;\n",
              "      display: none;\n",
              "      fill: #1967D2;\n",
              "      height: 32px;\n",
              "      padding: 0 0 0 0;\n",
              "      width: 32px;\n",
              "    }\n",
              "\n",
              "    .colab-df-convert:hover {\n",
              "      background-color: #E2EBFA;\n",
              "      box-shadow: 0px 1px 2px rgba(60, 64, 67, 0.3), 0px 1px 3px 1px rgba(60, 64, 67, 0.15);\n",
              "      fill: #174EA6;\n",
              "    }\n",
              "\n",
              "    [theme=dark] .colab-df-convert {\n",
              "      background-color: #3B4455;\n",
              "      fill: #D2E3FC;\n",
              "    }\n",
              "\n",
              "    [theme=dark] .colab-df-convert:hover {\n",
              "      background-color: #434B5C;\n",
              "      box-shadow: 0px 1px 3px 1px rgba(0, 0, 0, 0.15);\n",
              "      filter: drop-shadow(0px 1px 2px rgba(0, 0, 0, 0.3));\n",
              "      fill: #FFFFFF;\n",
              "    }\n",
              "  </style>\n",
              "\n",
              "      <script>\n",
              "        const buttonEl =\n",
              "          document.querySelector('#df-1fb277cb-7cbb-488a-a16d-0abc97036d15 button.colab-df-convert');\n",
              "        buttonEl.style.display =\n",
              "          google.colab.kernel.accessAllowed ? 'block' : 'none';\n",
              "\n",
              "        async function convertToInteractive(key) {\n",
              "          const element = document.querySelector('#df-1fb277cb-7cbb-488a-a16d-0abc97036d15');\n",
              "          const dataTable =\n",
              "            await google.colab.kernel.invokeFunction('convertToInteractive',\n",
              "                                                     [key], {});\n",
              "          if (!dataTable) return;\n",
              "\n",
              "          const docLinkHtml = 'Like what you see? Visit the ' +\n",
              "            '<a target=\"_blank\" href=https://colab.research.google.com/notebooks/data_table.ipynb>data table notebook</a>'\n",
              "            + ' to learn more about interactive tables.';\n",
              "          element.innerHTML = '';\n",
              "          dataTable['output_type'] = 'display_data';\n",
              "          await google.colab.output.renderOutput(dataTable, element);\n",
              "          const docLink = document.createElement('div');\n",
              "          docLink.innerHTML = docLinkHtml;\n",
              "          element.appendChild(docLink);\n",
              "        }\n",
              "      </script>\n",
              "    </div>\n",
              "  </div>\n",
              "  "
            ]
          },
          "metadata": {},
          "execution_count": 3
        }
      ]
    },
    {
      "cell_type": "code",
      "source": [
        "# Informacoes gerais do conjunto de dados\n",
        "vendas.info(verbose = True)"
      ],
      "metadata": {
        "colab": {
          "base_uri": "https://localhost:8080/"
        },
        "id": "19x3ccOHjYSH",
        "outputId": "78f1e701-329e-4734-f249-9f878c3a0ed0"
      },
      "execution_count": 4,
      "outputs": [
        {
          "output_type": "stream",
          "name": "stdout",
          "text": [
            "<class 'pandas.core.frame.DataFrame'>\n",
            "RangeIndex: 421570 entries, 0 to 421569\n",
            "Data columns (total 5 columns):\n",
            " #   Column        Non-Null Count   Dtype  \n",
            "---  ------        --------------   -----  \n",
            " 0   Store         421570 non-null  int64  \n",
            " 1   Dept          421570 non-null  int64  \n",
            " 2   Date          421570 non-null  object \n",
            " 3   Weekly_Sales  421570 non-null  float64\n",
            " 4   IsHoliday     421570 non-null  bool   \n",
            "dtypes: bool(1), float64(1), int64(2), object(1)\n",
            "memory usage: 13.3+ MB\n"
          ]
        }
      ]
    },
    {
      "cell_type": "markdown",
      "source": [
        "### **Transformando o conjunto de dados**"
      ],
      "metadata": {
        "id": "uQhuKN70uqMm"
      }
    },
    {
      "cell_type": "code",
      "source": [
        "# Transformação Data em formato de data\n",
        "vendas['Date'] = pd.to_datetime(vendas.Date, infer_datetime_format=True) "
      ],
      "metadata": {
        "id": "VHiJjIhM9phx"
      },
      "execution_count": 5,
      "outputs": []
    },
    {
      "cell_type": "code",
      "source": [
        "vendas"
      ],
      "metadata": {
        "colab": {
          "base_uri": "https://localhost:8080/",
          "height": 423
        },
        "id": "P0olfbZo-DdN",
        "outputId": "4cae7b0b-2471-4f8f-da44-2eb886395c2c"
      },
      "execution_count": 6,
      "outputs": [
        {
          "output_type": "execute_result",
          "data": {
            "text/plain": [
              "        Store  Dept       Date  Weekly_Sales  IsHoliday\n",
              "0           1     1 2010-02-05      24924.50      False\n",
              "1           1     1 2010-02-12      46039.49       True\n",
              "2           1     1 2010-02-19      41595.55      False\n",
              "3           1     1 2010-02-26      19403.54      False\n",
              "4           1     1 2010-03-05      21827.90      False\n",
              "...       ...   ...        ...           ...        ...\n",
              "421565     45    98 2012-09-28        508.37      False\n",
              "421566     45    98 2012-10-05        628.10      False\n",
              "421567     45    98 2012-10-12       1061.02      False\n",
              "421568     45    98 2012-10-19        760.01      False\n",
              "421569     45    98 2012-10-26       1076.80      False\n",
              "\n",
              "[421570 rows x 5 columns]"
            ],
            "text/html": [
              "\n",
              "  <div id=\"df-8ded7eb0-16ba-42f5-bb49-b37a80d67bf8\">\n",
              "    <div class=\"colab-df-container\">\n",
              "      <div>\n",
              "<style scoped>\n",
              "    .dataframe tbody tr th:only-of-type {\n",
              "        vertical-align: middle;\n",
              "    }\n",
              "\n",
              "    .dataframe tbody tr th {\n",
              "        vertical-align: top;\n",
              "    }\n",
              "\n",
              "    .dataframe thead th {\n",
              "        text-align: right;\n",
              "    }\n",
              "</style>\n",
              "<table border=\"1\" class=\"dataframe\">\n",
              "  <thead>\n",
              "    <tr style=\"text-align: right;\">\n",
              "      <th></th>\n",
              "      <th>Store</th>\n",
              "      <th>Dept</th>\n",
              "      <th>Date</th>\n",
              "      <th>Weekly_Sales</th>\n",
              "      <th>IsHoliday</th>\n",
              "    </tr>\n",
              "  </thead>\n",
              "  <tbody>\n",
              "    <tr>\n",
              "      <th>0</th>\n",
              "      <td>1</td>\n",
              "      <td>1</td>\n",
              "      <td>2010-02-05</td>\n",
              "      <td>24924.50</td>\n",
              "      <td>False</td>\n",
              "    </tr>\n",
              "    <tr>\n",
              "      <th>1</th>\n",
              "      <td>1</td>\n",
              "      <td>1</td>\n",
              "      <td>2010-02-12</td>\n",
              "      <td>46039.49</td>\n",
              "      <td>True</td>\n",
              "    </tr>\n",
              "    <tr>\n",
              "      <th>2</th>\n",
              "      <td>1</td>\n",
              "      <td>1</td>\n",
              "      <td>2010-02-19</td>\n",
              "      <td>41595.55</td>\n",
              "      <td>False</td>\n",
              "    </tr>\n",
              "    <tr>\n",
              "      <th>3</th>\n",
              "      <td>1</td>\n",
              "      <td>1</td>\n",
              "      <td>2010-02-26</td>\n",
              "      <td>19403.54</td>\n",
              "      <td>False</td>\n",
              "    </tr>\n",
              "    <tr>\n",
              "      <th>4</th>\n",
              "      <td>1</td>\n",
              "      <td>1</td>\n",
              "      <td>2010-03-05</td>\n",
              "      <td>21827.90</td>\n",
              "      <td>False</td>\n",
              "    </tr>\n",
              "    <tr>\n",
              "      <th>...</th>\n",
              "      <td>...</td>\n",
              "      <td>...</td>\n",
              "      <td>...</td>\n",
              "      <td>...</td>\n",
              "      <td>...</td>\n",
              "    </tr>\n",
              "    <tr>\n",
              "      <th>421565</th>\n",
              "      <td>45</td>\n",
              "      <td>98</td>\n",
              "      <td>2012-09-28</td>\n",
              "      <td>508.37</td>\n",
              "      <td>False</td>\n",
              "    </tr>\n",
              "    <tr>\n",
              "      <th>421566</th>\n",
              "      <td>45</td>\n",
              "      <td>98</td>\n",
              "      <td>2012-10-05</td>\n",
              "      <td>628.10</td>\n",
              "      <td>False</td>\n",
              "    </tr>\n",
              "    <tr>\n",
              "      <th>421567</th>\n",
              "      <td>45</td>\n",
              "      <td>98</td>\n",
              "      <td>2012-10-12</td>\n",
              "      <td>1061.02</td>\n",
              "      <td>False</td>\n",
              "    </tr>\n",
              "    <tr>\n",
              "      <th>421568</th>\n",
              "      <td>45</td>\n",
              "      <td>98</td>\n",
              "      <td>2012-10-19</td>\n",
              "      <td>760.01</td>\n",
              "      <td>False</td>\n",
              "    </tr>\n",
              "    <tr>\n",
              "      <th>421569</th>\n",
              "      <td>45</td>\n",
              "      <td>98</td>\n",
              "      <td>2012-10-26</td>\n",
              "      <td>1076.80</td>\n",
              "      <td>False</td>\n",
              "    </tr>\n",
              "  </tbody>\n",
              "</table>\n",
              "<p>421570 rows × 5 columns</p>\n",
              "</div>\n",
              "      <button class=\"colab-df-convert\" onclick=\"convertToInteractive('df-8ded7eb0-16ba-42f5-bb49-b37a80d67bf8')\"\n",
              "              title=\"Convert this dataframe to an interactive table.\"\n",
              "              style=\"display:none;\">\n",
              "        \n",
              "  <svg xmlns=\"http://www.w3.org/2000/svg\" height=\"24px\"viewBox=\"0 0 24 24\"\n",
              "       width=\"24px\">\n",
              "    <path d=\"M0 0h24v24H0V0z\" fill=\"none\"/>\n",
              "    <path d=\"M18.56 5.44l.94 2.06.94-2.06 2.06-.94-2.06-.94-.94-2.06-.94 2.06-2.06.94zm-11 1L8.5 8.5l.94-2.06 2.06-.94-2.06-.94L8.5 2.5l-.94 2.06-2.06.94zm10 10l.94 2.06.94-2.06 2.06-.94-2.06-.94-.94-2.06-.94 2.06-2.06.94z\"/><path d=\"M17.41 7.96l-1.37-1.37c-.4-.4-.92-.59-1.43-.59-.52 0-1.04.2-1.43.59L10.3 9.45l-7.72 7.72c-.78.78-.78 2.05 0 2.83L4 21.41c.39.39.9.59 1.41.59.51 0 1.02-.2 1.41-.59l7.78-7.78 2.81-2.81c.8-.78.8-2.07 0-2.86zM5.41 20L4 18.59l7.72-7.72 1.47 1.35L5.41 20z\"/>\n",
              "  </svg>\n",
              "      </button>\n",
              "      \n",
              "  <style>\n",
              "    .colab-df-container {\n",
              "      display:flex;\n",
              "      flex-wrap:wrap;\n",
              "      gap: 12px;\n",
              "    }\n",
              "\n",
              "    .colab-df-convert {\n",
              "      background-color: #E8F0FE;\n",
              "      border: none;\n",
              "      border-radius: 50%;\n",
              "      cursor: pointer;\n",
              "      display: none;\n",
              "      fill: #1967D2;\n",
              "      height: 32px;\n",
              "      padding: 0 0 0 0;\n",
              "      width: 32px;\n",
              "    }\n",
              "\n",
              "    .colab-df-convert:hover {\n",
              "      background-color: #E2EBFA;\n",
              "      box-shadow: 0px 1px 2px rgba(60, 64, 67, 0.3), 0px 1px 3px 1px rgba(60, 64, 67, 0.15);\n",
              "      fill: #174EA6;\n",
              "    }\n",
              "\n",
              "    [theme=dark] .colab-df-convert {\n",
              "      background-color: #3B4455;\n",
              "      fill: #D2E3FC;\n",
              "    }\n",
              "\n",
              "    [theme=dark] .colab-df-convert:hover {\n",
              "      background-color: #434B5C;\n",
              "      box-shadow: 0px 1px 3px 1px rgba(0, 0, 0, 0.15);\n",
              "      filter: drop-shadow(0px 1px 2px rgba(0, 0, 0, 0.3));\n",
              "      fill: #FFFFFF;\n",
              "    }\n",
              "  </style>\n",
              "\n",
              "      <script>\n",
              "        const buttonEl =\n",
              "          document.querySelector('#df-8ded7eb0-16ba-42f5-bb49-b37a80d67bf8 button.colab-df-convert');\n",
              "        buttonEl.style.display =\n",
              "          google.colab.kernel.accessAllowed ? 'block' : 'none';\n",
              "\n",
              "        async function convertToInteractive(key) {\n",
              "          const element = document.querySelector('#df-8ded7eb0-16ba-42f5-bb49-b37a80d67bf8');\n",
              "          const dataTable =\n",
              "            await google.colab.kernel.invokeFunction('convertToInteractive',\n",
              "                                                     [key], {});\n",
              "          if (!dataTable) return;\n",
              "\n",
              "          const docLinkHtml = 'Like what you see? Visit the ' +\n",
              "            '<a target=\"_blank\" href=https://colab.research.google.com/notebooks/data_table.ipynb>data table notebook</a>'\n",
              "            + ' to learn more about interactive tables.';\n",
              "          element.innerHTML = '';\n",
              "          dataTable['output_type'] = 'display_data';\n",
              "          await google.colab.output.renderOutput(dataTable, element);\n",
              "          const docLink = document.createElement('div');\n",
              "          docLink.innerHTML = docLinkHtml;\n",
              "          element.appendChild(docLink);\n",
              "        }\n",
              "      </script>\n",
              "    </div>\n",
              "  </div>\n",
              "  "
            ]
          },
          "metadata": {},
          "execution_count": 6
        }
      ]
    },
    {
      "cell_type": "markdown",
      "source": [
        "### **Criando o conjunto de dados no formato esperado pelo Prophet**"
      ],
      "metadata": {
        "id": "VzDXEQbJ29Wi"
      }
    },
    {
      "cell_type": "markdown",
      "source": [
        "Esse framework da Facebook para previsão de séries temporais exige que os dados de entrada seja um dataframe com duas colunas:\n",
        "- **ds**: que significa (datastamp) deve ter um formato de datetime esperado pelo Pandas, preferencialmente no formato AAAA-MM-DD se for somente a data ou AAAA-MM-DD HH:MM:SS se for data e hora. \n",
        "-**y**: deve ter os dados observados nas datas e que se pretende prever, e ser numérica."
      ],
      "metadata": {
        "id": "4Wx1nPLo26ug"
      }
    },
    {
      "cell_type": "code",
      "source": [
        "# Tabela com acessos por mês e ano\n",
        "vendas_semanal = vendas[['Date','Weekly_Sales']]\\\n",
        "  .groupby(['Date'], as_index = True)\\\n",
        "  .sum()\\\n",
        "  .reset_index()\\\n",
        "  .sort_values(['Date'], ascending=True)\\\n",
        "  .rename(columns={\"Date\": \"ds\", \"Weekly_Sales\": \"y\"})"
      ],
      "metadata": {
        "id": "wm5Kd1olvioz"
      },
      "execution_count": 7,
      "outputs": []
    },
    {
      "cell_type": "code",
      "source": [
        "# Espiando o resultado do agrupamento\n",
        "vendas_semanal.tail()"
      ],
      "metadata": {
        "colab": {
          "base_uri": "https://localhost:8080/",
          "height": 206
        },
        "id": "D-ub-1Z4-KTN",
        "outputId": "d48c6704-1e73-4f48-f6f0-e86c26013bfe"
      },
      "execution_count": 8,
      "outputs": [
        {
          "output_type": "execute_result",
          "data": {
            "text/plain": [
              "            ds            y\n",
              "138 2012-09-28  43734899.40\n",
              "139 2012-10-05  47566639.31\n",
              "140 2012-10-12  46128514.25\n",
              "141 2012-10-19  45122410.57\n",
              "142 2012-10-26  45544116.29"
            ],
            "text/html": [
              "\n",
              "  <div id=\"df-73eae5e0-4822-46a2-9de4-54f15fe20980\">\n",
              "    <div class=\"colab-df-container\">\n",
              "      <div>\n",
              "<style scoped>\n",
              "    .dataframe tbody tr th:only-of-type {\n",
              "        vertical-align: middle;\n",
              "    }\n",
              "\n",
              "    .dataframe tbody tr th {\n",
              "        vertical-align: top;\n",
              "    }\n",
              "\n",
              "    .dataframe thead th {\n",
              "        text-align: right;\n",
              "    }\n",
              "</style>\n",
              "<table border=\"1\" class=\"dataframe\">\n",
              "  <thead>\n",
              "    <tr style=\"text-align: right;\">\n",
              "      <th></th>\n",
              "      <th>ds</th>\n",
              "      <th>y</th>\n",
              "    </tr>\n",
              "  </thead>\n",
              "  <tbody>\n",
              "    <tr>\n",
              "      <th>138</th>\n",
              "      <td>2012-09-28</td>\n",
              "      <td>43734899.40</td>\n",
              "    </tr>\n",
              "    <tr>\n",
              "      <th>139</th>\n",
              "      <td>2012-10-05</td>\n",
              "      <td>47566639.31</td>\n",
              "    </tr>\n",
              "    <tr>\n",
              "      <th>140</th>\n",
              "      <td>2012-10-12</td>\n",
              "      <td>46128514.25</td>\n",
              "    </tr>\n",
              "    <tr>\n",
              "      <th>141</th>\n",
              "      <td>2012-10-19</td>\n",
              "      <td>45122410.57</td>\n",
              "    </tr>\n",
              "    <tr>\n",
              "      <th>142</th>\n",
              "      <td>2012-10-26</td>\n",
              "      <td>45544116.29</td>\n",
              "    </tr>\n",
              "  </tbody>\n",
              "</table>\n",
              "</div>\n",
              "      <button class=\"colab-df-convert\" onclick=\"convertToInteractive('df-73eae5e0-4822-46a2-9de4-54f15fe20980')\"\n",
              "              title=\"Convert this dataframe to an interactive table.\"\n",
              "              style=\"display:none;\">\n",
              "        \n",
              "  <svg xmlns=\"http://www.w3.org/2000/svg\" height=\"24px\"viewBox=\"0 0 24 24\"\n",
              "       width=\"24px\">\n",
              "    <path d=\"M0 0h24v24H0V0z\" fill=\"none\"/>\n",
              "    <path d=\"M18.56 5.44l.94 2.06.94-2.06 2.06-.94-2.06-.94-.94-2.06-.94 2.06-2.06.94zm-11 1L8.5 8.5l.94-2.06 2.06-.94-2.06-.94L8.5 2.5l-.94 2.06-2.06.94zm10 10l.94 2.06.94-2.06 2.06-.94-2.06-.94-.94-2.06-.94 2.06-2.06.94z\"/><path d=\"M17.41 7.96l-1.37-1.37c-.4-.4-.92-.59-1.43-.59-.52 0-1.04.2-1.43.59L10.3 9.45l-7.72 7.72c-.78.78-.78 2.05 0 2.83L4 21.41c.39.39.9.59 1.41.59.51 0 1.02-.2 1.41-.59l7.78-7.78 2.81-2.81c.8-.78.8-2.07 0-2.86zM5.41 20L4 18.59l7.72-7.72 1.47 1.35L5.41 20z\"/>\n",
              "  </svg>\n",
              "      </button>\n",
              "      \n",
              "  <style>\n",
              "    .colab-df-container {\n",
              "      display:flex;\n",
              "      flex-wrap:wrap;\n",
              "      gap: 12px;\n",
              "    }\n",
              "\n",
              "    .colab-df-convert {\n",
              "      background-color: #E8F0FE;\n",
              "      border: none;\n",
              "      border-radius: 50%;\n",
              "      cursor: pointer;\n",
              "      display: none;\n",
              "      fill: #1967D2;\n",
              "      height: 32px;\n",
              "      padding: 0 0 0 0;\n",
              "      width: 32px;\n",
              "    }\n",
              "\n",
              "    .colab-df-convert:hover {\n",
              "      background-color: #E2EBFA;\n",
              "      box-shadow: 0px 1px 2px rgba(60, 64, 67, 0.3), 0px 1px 3px 1px rgba(60, 64, 67, 0.15);\n",
              "      fill: #174EA6;\n",
              "    }\n",
              "\n",
              "    [theme=dark] .colab-df-convert {\n",
              "      background-color: #3B4455;\n",
              "      fill: #D2E3FC;\n",
              "    }\n",
              "\n",
              "    [theme=dark] .colab-df-convert:hover {\n",
              "      background-color: #434B5C;\n",
              "      box-shadow: 0px 1px 3px 1px rgba(0, 0, 0, 0.15);\n",
              "      filter: drop-shadow(0px 1px 2px rgba(0, 0, 0, 0.3));\n",
              "      fill: #FFFFFF;\n",
              "    }\n",
              "  </style>\n",
              "\n",
              "      <script>\n",
              "        const buttonEl =\n",
              "          document.querySelector('#df-73eae5e0-4822-46a2-9de4-54f15fe20980 button.colab-df-convert');\n",
              "        buttonEl.style.display =\n",
              "          google.colab.kernel.accessAllowed ? 'block' : 'none';\n",
              "\n",
              "        async function convertToInteractive(key) {\n",
              "          const element = document.querySelector('#df-73eae5e0-4822-46a2-9de4-54f15fe20980');\n",
              "          const dataTable =\n",
              "            await google.colab.kernel.invokeFunction('convertToInteractive',\n",
              "                                                     [key], {});\n",
              "          if (!dataTable) return;\n",
              "\n",
              "          const docLinkHtml = 'Like what you see? Visit the ' +\n",
              "            '<a target=\"_blank\" href=https://colab.research.google.com/notebooks/data_table.ipynb>data table notebook</a>'\n",
              "            + ' to learn more about interactive tables.';\n",
              "          element.innerHTML = '';\n",
              "          dataTable['output_type'] = 'display_data';\n",
              "          await google.colab.output.renderOutput(dataTable, element);\n",
              "          const docLink = document.createElement('div');\n",
              "          docLink.innerHTML = docLinkHtml;\n",
              "          element.appendChild(docLink);\n",
              "        }\n",
              "      </script>\n",
              "    </div>\n",
              "  </div>\n",
              "  "
            ]
          },
          "metadata": {},
          "execution_count": 8
        }
      ]
    },
    {
      "cell_type": "markdown",
      "source": [
        "### **Visualizando a série temporal**"
      ],
      "metadata": {
        "id": "PKOdnZgcl_9A"
      }
    },
    {
      "cell_type": "code",
      "source": [
        "# Gerando o gráfico da série temporal\n",
        "vendas_semanal.plot(x = 'ds', y = 'y', figsize = (15,6), marker='o' );"
      ],
      "metadata": {
        "colab": {
          "base_uri": "https://localhost:8080/",
          "height": 411
        },
        "id": "cXqUaac0mTHn",
        "outputId": "55876a3e-1372-44df-8c14-b021ea930ed0"
      },
      "execution_count": 9,
      "outputs": [
        {
          "output_type": "display_data",
          "data": {
            "text/plain": [
              "<Figure size 1080x432 with 1 Axes>"
            ],
            "image/png": "[encoded data removed]"
          },
          "metadata": {
            "needs_background": "light"
          }
        }
      ]
    },
    {
      "cell_type": "markdown",
      "source": [
        "### **Explorando mais os dados**"
      ],
      "metadata": {
        "id": "IMV8JbQM3D1C"
      }
    },
    {
      "cell_type": "code",
      "source": [
        "# Criando um conjunto de dados temporario para analise\n",
        "temporario = vendas_semanal\n",
        "temporario['ano'] = temporario.ds.dt.year\n",
        "temporario['mes'] = temporario.ds.dt.month  "
      ],
      "metadata": {
        "id": "DCzK6PgxCNUh"
      },
      "execution_count": 10,
      "outputs": []
    },
    {
      "cell_type": "code",
      "source": [
        "#Contando numero de observacoes ano\n",
        "temporario.value_counts(['ano'])"
      ],
      "metadata": {
        "colab": {
          "base_uri": "https://localhost:8080/"
        },
        "id": "1lq-Dw8xFJbV",
        "outputId": "1822396d-baec-48a1-8ef9-368b75c874b9"
      },
      "execution_count": 11,
      "outputs": [
        {
          "output_type": "execute_result",
          "data": {
            "text/plain": [
              "ano \n",
              "2011    52\n",
              "2010    48\n",
              "2012    43\n",
              "dtype: int64"
            ]
          },
          "metadata": {},
          "execution_count": 11
        }
      ]
    },
    {
      "cell_type": "code",
      "source": [
        "#Contando numero de observacoes por mes e ano\n",
        "temporario.value_counts(['ano','mes'])\\\n",
        "  .reset_index(name='counts')\\\n",
        "  .sort_values(['ano','mes'], ascending=True)\\"
      ],
      "metadata": {
        "colab": {
          "base_uri": "https://localhost:8080/",
          "height": 1000
        },
        "id": "HQTQp8o9FIzA",
        "outputId": "0922f44b-be2e-4733-fa2c-5ed549181d41"
      },
      "execution_count": 12,
      "outputs": [
        {
          "output_type": "execute_result",
          "data": {
            "text/plain": [
              "     ano  mes  counts\n",
              "19  2010    2       4\n",
              "22  2010    3       4\n",
              "10  2010    4       5\n",
              "31  2010    5       4\n",
              "30  2010    6       4\n",
              "8   2010    7       5\n",
              "29  2010    8       4\n",
              "28  2010    9       4\n",
              "6   2010   10       5\n",
              "27  2010   11       4\n",
              "0   2010   12       5\n",
              "26  2011    1       4\n",
              "25  2011    2       4\n",
              "24  2011    3       4\n",
              "4   2011    4       5\n",
              "23  2011    5       4\n",
              "20  2011    6       4\n",
              "2   2011    7       5\n",
              "21  2011    8       4\n",
              "7   2011    9       5\n",
              "13  2011   10       4\n",
              "18  2011   11       4\n",
              "3   2011   12       5\n",
              "16  2012    1       4\n",
              "15  2012    2       4\n",
              "5   2012    3       5\n",
              "14  2012    4       4\n",
              "12  2012    5       4\n",
              "1   2012    6       5\n",
              "11  2012    7       4\n",
              "9   2012    8       5\n",
              "17  2012    9       4\n",
              "32  2012   10       4"
            ],
            "text/html": [
              "\n",
              "  <div id=\"df-13006473-9749-4463-a6ff-b18ce0ebc270\">\n",
              "    <div class=\"colab-df-container\">\n",
              "      <div>\n",
              "<style scoped>\n",
              "    .dataframe tbody tr th:only-of-type {\n",
              "        vertical-align: middle;\n",
              "    }\n",
              "\n",
              "    .dataframe tbody tr th {\n",
              "        vertical-align: top;\n",
              "    }\n",
              "\n",
              "    .dataframe thead th {\n",
              "        text-align: right;\n",
              "    }\n",
              "</style>\n",
              "<table border=\"1\" class=\"dataframe\">\n",
              "  <thead>\n",
              "    <tr style=\"text-align: right;\">\n",
              "      <th></th>\n",
              "      <th>ano</th>\n",
              "      <th>mes</th>\n",
              "      <th>counts</th>\n",
              "    </tr>\n",
              "  </thead>\n",
              "  <tbody>\n",
              "    <tr>\n",
              "      <th>19</th>\n",
              "      <td>2010</td>\n",
              "      <td>2</td>\n",
              "      <td>4</td>\n",
              "    </tr>\n",
              "    <tr>\n",
              "      <th>22</th>\n",
              "      <td>2010</td>\n",
              "      <td>3</td>\n",
              "      <td>4</td>\n",
              "    </tr>\n",
              "    <tr>\n",
              "      <th>10</th>\n",
              "      <td>2010</td>\n",
              "      <td>4</td>\n",
              "      <td>5</td>\n",
              "    </tr>\n",
              "    <tr>\n",
              "      <th>31</th>\n",
              "      <td>2010</td>\n",
              "      <td>5</td>\n",
              "      <td>4</td>\n",
              "    </tr>\n",
              "    <tr>\n",
              "      <th>30</th>\n",
              "      <td>2010</td>\n",
              "      <td>6</td>\n",
              "      <td>4</td>\n",
              "    </tr>\n",
              "    <tr>\n",
              "      <th>8</th>\n",
              "      <td>2010</td>\n",
              "      <td>7</td>\n",
              "      <td>5</td>\n",
              "    </tr>\n",
              "    <tr>\n",
              "      <th>29</th>\n",
              "      <td>2010</td>\n",
              "      <td>8</td>\n",
              "      <td>4</td>\n",
              "    </tr>\n",
              "    <tr>\n",
              "      <th>28</th>\n",
              "      <td>2010</td>\n",
              "      <td>9</td>\n",
              "      <td>4</td>\n",
              "    </tr>\n",
              "    <tr>\n",
              "      <th>6</th>\n",
              "      <td>2010</td>\n",
              "      <td>10</td>\n",
              "      <td>5</td>\n",
              "    </tr>\n",
              "    <tr>\n",
              "      <th>27</th>\n",
              "      <td>2010</td>\n",
              "      <td>11</td>\n",
              "      <td>4</td>\n",
              "    </tr>\n",
              "    <tr>\n",
              "      <th>0</th>\n",
              "      <td>2010</td>\n",
              "      <td>12</td>\n",
              "      <td>5</td>\n",
              "    </tr>\n",
              "    <tr>\n",
              "      <th>26</th>\n",
              "      <td>2011</td>\n",
              "      <td>1</td>\n",
              "      <td>4</td>\n",
              "    </tr>\n",
              "    <tr>\n",
              "      <th>25</th>\n",
              "      <td>2011</td>\n",
              "      <td>2</td>\n",
              "      <td>4</td>\n",
              "    </tr>\n",
              "    <tr>\n",
              "      <th>24</th>\n",
              "      <td>2011</td>\n",
              "      <td>3</td>\n",
              "      <td>4</td>\n",
              "    </tr>\n",
              "    <tr>\n",
              "      <th>4</th>\n",
              "      <td>2011</td>\n",
              "      <td>4</td>\n",
              "      <td>5</td>\n",
              "    </tr>\n",
              "    <tr>\n",
              "      <th>23</th>\n",
              "      <td>2011</td>\n",
              "      <td>5</td>\n",
              "      <td>4</td>\n",
              "    </tr>\n",
              "    <tr>\n",
              "      <th>20</th>\n",
              "      <td>2011</td>\n",
              "      <td>6</td>\n",
              "      <td>4</td>\n",
              "    </tr>\n",
              "    <tr>\n",
              "      <th>2</th>\n",
              "      <td>2011</td>\n",
              "      <td>7</td>\n",
              "      <td>5</td>\n",
              "    </tr>\n",
              "    <tr>\n",
              "      <th>21</th>\n",
              "      <td>2011</td>\n",
              "      <td>8</td>\n",
              "      <td>4</td>\n",
              "    </tr>\n",
              "    <tr>\n",
              "      <th>7</th>\n",
              "      <td>2011</td>\n",
              "      <td>9</td>\n",
              "      <td>5</td>\n",
              "    </tr>\n",
              "    <tr>\n",
              "      <th>13</th>\n",
              "      <td>2011</td>\n",
              "      <td>10</td>\n",
              "      <td>4</td>\n",
              "    </tr>\n",
              "    <tr>\n",
              "      <th>18</th>\n",
              "      <td>2011</td>\n",
              "      <td>11</td>\n",
              "      <td>4</td>\n",
              "    </tr>\n",
              "    <tr>\n",
              "      <th>3</th>\n",
              "      <td>2011</td>\n",
              "      <td>12</td>\n",
              "      <td>5</td>\n",
              "    </tr>\n",
              "    <tr>\n",
              "      <th>16</th>\n",
              "      <td>2012</td>\n",
              "      <td>1</td>\n",
              "      <td>4</td>\n",
              "    </tr>\n",
              "    <tr>\n",
              "      <th>15</th>\n",
              "      <td>2012</td>\n",
              "      <td>2</td>\n",
              "      <td>4</td>\n",
              "    </tr>\n",
              "    <tr>\n",
              "      <th>5</th>\n",
              "      <td>2012</td>\n",
              "      <td>3</td>\n",
              "      <td>5</td>\n",
              "    </tr>\n",
              "    <tr>\n",
              "      <th>14</th>\n",
              "      <td>2012</td>\n",
              "      <td>4</td>\n",
              "      <td>4</td>\n",
              "    </tr>\n",
              "    <tr>\n",
              "      <th>12</th>\n",
              "      <td>2012</td>\n",
              "      <td>5</td>\n",
              "      <td>4</td>\n",
              "    </tr>\n",
              "    <tr>\n",
              "      <th>1</th>\n",
              "      <td>2012</td>\n",
              "      <td>6</td>\n",
              "      <td>5</td>\n",
              "    </tr>\n",
              "    <tr>\n",
              "      <th>11</th>\n",
              "      <td>2012</td>\n",
              "      <td>7</td>\n",
              "      <td>4</td>\n",
              "    </tr>\n",
              "    <tr>\n",
              "      <th>9</th>\n",
              "      <td>2012</td>\n",
              "      <td>8</td>\n",
              "      <td>5</td>\n",
              "    </tr>\n",
              "    <tr>\n",
              "      <th>17</th>\n",
              "      <td>2012</td>\n",
              "      <td>9</td>\n",
              "      <td>4</td>\n",
              "    </tr>\n",
              "    <tr>\n",
              "      <th>32</th>\n",
              "      <td>2012</td>\n",
              "      <td>10</td>\n",
              "      <td>4</td>\n",
              "    </tr>\n",
              "  </tbody>\n",
              "</table>\n",
              "</div>\n",
              "      <button class=\"colab-df-convert\" onclick=\"convertToInteractive('df-13006473-9749-4463-a6ff-b18ce0ebc270')\"\n",
              "              title=\"Convert this dataframe to an interactive table.\"\n",
              "              style=\"display:none;\">\n",
              "        \n",
              "  <svg xmlns=\"http://www.w3.org/2000/svg\" height=\"24px\"viewBox=\"0 0 24 24\"\n",
              "       width=\"24px\">\n",
              "    <path d=\"M0 0h24v24H0V0z\" fill=\"none\"/>\n",
              "    <path d=\"M18.56 5.44l.94 2.06.94-2.06 2.06-.94-2.06-.94-.94-2.06-.94 2.06-2.06.94zm-11 1L8.5 8.5l.94-2.06 2.06-.94-2.06-.94L8.5 2.5l-.94 2.06-2.06.94zm10 10l.94 2.06.94-2.06 2.06-.94-2.06-.94-.94-2.06-.94 2.06-2.06.94z\"/><path d=\"M17.41 7.96l-1.37-1.37c-.4-.4-.92-.59-1.43-.59-.52 0-1.04.2-1.43.59L10.3 9.45l-7.72 7.72c-.78.78-.78 2.05 0 2.83L4 21.41c.39.39.9.59 1.41.59.51 0 1.02-.2 1.41-.59l7.78-7.78 2.81-2.81c.8-.78.8-2.07 0-2.86zM5.41 20L4 18.59l7.72-7.72 1.47 1.35L5.41 20z\"/>\n",
              "  </svg>\n",
              "      </button>\n",
              "      \n",
              "  <style>\n",
              "    .colab-df-container {\n",
              "      display:flex;\n",
              "      flex-wrap:wrap;\n",
              "      gap: 12px;\n",
              "    }\n",
              "\n",
              "    .colab-df-convert {\n",
              "      background-color: #E8F0FE;\n",
              "      border: none;\n",
              "      border-radius: 50%;\n",
              "      cursor: pointer;\n",
              "      display: none;\n",
              "      fill: #1967D2;\n",
              "      height: 32px;\n",
              "      padding: 0 0 0 0;\n",
              "      width: 32px;\n",
              "    }\n",
              "\n",
              "    .colab-df-convert:hover {\n",
              "      background-color: #E2EBFA;\n",
              "      box-shadow: 0px 1px 2px rgba(60, 64, 67, 0.3), 0px 1px 3px 1px rgba(60, 64, 67, 0.15);\n",
              "      fill: #174EA6;\n",
              "    }\n",
              "\n",
              "    [theme=dark] .colab-df-convert {\n",
              "      background-color: #3B4455;\n",
              "      fill: #D2E3FC;\n",
              "    }\n",
              "\n",
              "    [theme=dark] .colab-df-convert:hover {\n",
              "      background-color: #434B5C;\n",
              "      box-shadow: 0px 1px 3px 1px rgba(0, 0, 0, 0.15);\n",
              "      filter: drop-shadow(0px 1px 2px rgba(0, 0, 0, 0.3));\n",
              "      fill: #FFFFFF;\n",
              "    }\n",
              "  </style>\n",
              "\n",
              "      <script>\n",
              "        const buttonEl =\n",
              "          document.querySelector('#df-13006473-9749-4463-a6ff-b18ce0ebc270 button.colab-df-convert');\n",
              "        buttonEl.style.display =\n",
              "          google.colab.kernel.accessAllowed ? 'block' : 'none';\n",
              "\n",
              "        async function convertToInteractive(key) {\n",
              "          const element = document.querySelector('#df-13006473-9749-4463-a6ff-b18ce0ebc270');\n",
              "          const dataTable =\n",
              "            await google.colab.kernel.invokeFunction('convertToInteractive',\n",
              "                                                     [key], {});\n",
              "          if (!dataTable) return;\n",
              "\n",
              "          const docLinkHtml = 'Like what you see? Visit the ' +\n",
              "            '<a target=\"_blank\" href=https://colab.research.google.com/notebooks/data_table.ipynb>data table notebook</a>'\n",
              "            + ' to learn more about interactive tables.';\n",
              "          element.innerHTML = '';\n",
              "          dataTable['output_type'] = 'display_data';\n",
              "          await google.colab.output.renderOutput(dataTable, element);\n",
              "          const docLink = document.createElement('div');\n",
              "          docLink.innerHTML = docLinkHtml;\n",
              "          element.appendChild(docLink);\n",
              "        }\n",
              "      </script>\n",
              "    </div>\n",
              "  </div>\n",
              "  "
            ]
          },
          "metadata": {},
          "execution_count": 12
        }
      ]
    },
    {
      "cell_type": "markdown",
      "source": [
        "## **Previsão com Prophet**"
      ],
      "metadata": {
        "id": "zvKWnpBE1e7k"
      }
    },
    {
      "cell_type": "markdown",
      "source": [
        "### **Fazendo a modelagem com o Prophet**"
      ],
      "metadata": {
        "id": "Gr-1aqZrFekV"
      }
    },
    {
      "cell_type": "code",
      "source": [
        "# Instanciando o modelo\n",
        "modelo = Prophet()"
      ],
      "metadata": {
        "id": "5xP-1-RY8F6A"
      },
      "execution_count": 13,
      "outputs": []
    },
    {
      "cell_type": "code",
      "source": [
        "# Ajustando o modelo aos dados\n",
        "modelo.fit(vendas_semanal)"
      ],
      "metadata": {
        "colab": {
          "base_uri": "https://localhost:8080/"
        },
        "id": "IzTEL9Qa8MYM",
        "outputId": "35fe170d-c77f-4101-edb3-84f252bd5a9c"
      },
      "execution_count": 14,
      "outputs": [
        {
          "output_type": "stream",
          "name": "stderr",
          "text": [
            "INFO:fbprophet:Disabling weekly seasonality. Run prophet with weekly_seasonality=True to override this.\n",
            "INFO:fbprophet:Disabling daily seasonality. Run prophet with daily_seasonality=True to override this.\n"
          ]
        },
        {
          "output_type": "execute_result",
          "data": {
            "text/plain": [
              "<fbprophet.forecaster.Prophet at 0x7fd0509b06d0>"
            ]
          },
          "metadata": {},
          "execution_count": 14
        }
      ]
    },
    {
      "cell_type": "markdown",
      "source": [
        "### **Fazendo Previsão com o Prophet**"
      ],
      "metadata": {
        "id": "hCK8tNnKeidj"
      }
    },
    {
      "cell_type": "code",
      "source": [
        "# Criando dataframe com os períodos futuros para as previsões\n",
        "st_futuro = modelo.make_future_dataframe(\n",
        "    periods= 18, \n",
        "    freq = 'w', \n",
        "    include_history = True\n",
        ")\n",
        "\n",
        "# Espiando o df gerado\n",
        "st_futuro"
      ],
      "metadata": {
        "colab": {
          "base_uri": "https://localhost:8080/",
          "height": 423
        },
        "id": "FiudDEVm8hLC",
        "outputId": "9c9fcade-98f6-461b-b396-7e94a6dfb7f3"
      },
      "execution_count": 15,
      "outputs": [
        {
          "output_type": "execute_result",
          "data": {
            "text/plain": [
              "            ds\n",
              "0   2010-02-05\n",
              "1   2010-02-12\n",
              "2   2010-02-19\n",
              "3   2010-02-26\n",
              "4   2010-03-05\n",
              "..         ...\n",
              "156 2013-01-27\n",
              "157 2013-02-03\n",
              "158 2013-02-10\n",
              "159 2013-02-17\n",
              "160 2013-02-24\n",
              "\n",
              "[161 rows x 1 columns]"
            ],
            "text/html": [
              "\n",
              "  <div id=\"df-181d74ee-ce62-4819-8030-2ed6396602d4\">\n",
              "    <div class=\"colab-df-container\">\n",
              "      <div>\n",
              "<style scoped>\n",
              "    .dataframe tbody tr th:only-of-type {\n",
              "        vertical-align: middle;\n",
              "    }\n",
              "\n",
              "    .dataframe tbody tr th {\n",
              "        vertical-align: top;\n",
              "    }\n",
              "\n",
              "    .dataframe thead th {\n",
              "        text-align: right;\n",
              "    }\n",
              "</style>\n",
              "<table border=\"1\" class=\"dataframe\">\n",
              "  <thead>\n",
              "    <tr style=\"text-align: right;\">\n",
              "      <th></th>\n",
              "      <th>ds</th>\n",
              "    </tr>\n",
              "  </thead>\n",
              "  <tbody>\n",
              "    <tr>\n",
              "      <th>0</th>\n",
              "      <td>2010-02-05</td>\n",
              "    </tr>\n",
              "    <tr>\n",
              "      <th>1</th>\n",
              "      <td>2010-02-12</td>\n",
              "    </tr>\n",
              "    <tr>\n",
              "      <th>2</th>\n",
              "      <td>2010-02-19</td>\n",
              "    </tr>\n",
              "    <tr>\n",
              "      <th>3</th>\n",
              "      <td>2010-02-26</td>\n",
              "    </tr>\n",
              "    <tr>\n",
              "      <th>4</th>\n",
              "      <td>2010-03-05</td>\n",
              "    </tr>\n",
              "    <tr>\n",
              "      <th>...</th>\n",
              "      <td>...</td>\n",
              "    </tr>\n",
              "    <tr>\n",
              "      <th>156</th>\n",
              "      <td>2013-01-27</td>\n",
              "    </tr>\n",
              "    <tr>\n",
              "      <th>157</th>\n",
              "      <td>2013-02-03</td>\n",
              "    </tr>\n",
              "    <tr>\n",
              "      <th>158</th>\n",
              "      <td>2013-02-10</td>\n",
              "    </tr>\n",
              "    <tr>\n",
              "      <th>159</th>\n",
              "      <td>2013-02-17</td>\n",
              "    </tr>\n",
              "    <tr>\n",
              "      <th>160</th>\n",
              "      <td>2013-02-24</td>\n",
              "    </tr>\n",
              "  </tbody>\n",
              "</table>\n",
              "<p>161 rows × 1 columns</p>\n",
              "</div>\n",
              "      <button class=\"colab-df-convert\" onclick=\"convertToInteractive('df-181d74ee-ce62-4819-8030-2ed6396602d4')\"\n",
              "              title=\"Convert this dataframe to an interactive table.\"\n",
              "              style=\"display:none;\">\n",
              "        \n",
              "  <svg xmlns=\"http://www.w3.org/2000/svg\" height=\"24px\"viewBox=\"0 0 24 24\"\n",
              "       width=\"24px\">\n",
              "    <path d=\"M0 0h24v24H0V0z\" fill=\"none\"/>\n",
              "    <path d=\"M18.56 5.44l.94 2.06.94-2.06 2.06-.94-2.06-.94-.94-2.06-.94 2.06-2.06.94zm-11 1L8.5 8.5l.94-2.06 2.06-.94-2.06-.94L8.5 2.5l-.94 2.06-2.06.94zm10 10l.94 2.06.94-2.06 2.06-.94-2.06-.94-.94-2.06-.94 2.06-2.06.94z\"/><path d=\"M17.41 7.96l-1.37-1.37c-.4-.4-.92-.59-1.43-.59-.52 0-1.04.2-1.43.59L10.3 9.45l-7.72 7.72c-.78.78-.78 2.05 0 2.83L4 21.41c.39.39.9.59 1.41.59.51 0 1.02-.2 1.41-.59l7.78-7.78 2.81-2.81c.8-.78.8-2.07 0-2.86zM5.41 20L4 18.59l7.72-7.72 1.47 1.35L5.41 20z\"/>\n",
              "  </svg>\n",
              "      </button>\n",
              "      \n",
              "  <style>\n",
              "    .colab-df-container {\n",
              "      display:flex;\n",
              "      flex-wrap:wrap;\n",
              "      gap: 12px;\n",
              "    }\n",
              "\n",
              "    .colab-df-convert {\n",
              "      background-color: #E8F0FE;\n",
              "      border: none;\n",
              "      border-radius: 50%;\n",
              "      cursor: pointer;\n",
              "      display: none;\n",
              "      fill: #1967D2;\n",
              "      height: 32px;\n",
              "      padding: 0 0 0 0;\n",
              "      width: 32px;\n",
              "    }\n",
              "\n",
              "    .colab-df-convert:hover {\n",
              "      background-color: #E2EBFA;\n",
              "      box-shadow: 0px 1px 2px rgba(60, 64, 67, 0.3), 0px 1px 3px 1px rgba(60, 64, 67, 0.15);\n",
              "      fill: #174EA6;\n",
              "    }\n",
              "\n",
              "    [theme=dark] .colab-df-convert {\n",
              "      background-color: #3B4455;\n",
              "      fill: #D2E3FC;\n",
              "    }\n",
              "\n",
              "    [theme=dark] .colab-df-convert:hover {\n",
              "      background-color: #434B5C;\n",
              "      box-shadow: 0px 1px 3px 1px rgba(0, 0, 0, 0.15);\n",
              "      filter: drop-shadow(0px 1px 2px rgba(0, 0, 0, 0.3));\n",
              "      fill: #FFFFFF;\n",
              "    }\n",
              "  </style>\n",
              "\n",
              "      <script>\n",
              "        const buttonEl =\n",
              "          document.querySelector('#df-181d74ee-ce62-4819-8030-2ed6396602d4 button.colab-df-convert');\n",
              "        buttonEl.style.display =\n",
              "          google.colab.kernel.accessAllowed ? 'block' : 'none';\n",
              "\n",
              "        async function convertToInteractive(key) {\n",
              "          const element = document.querySelector('#df-181d74ee-ce62-4819-8030-2ed6396602d4');\n",
              "          const dataTable =\n",
              "            await google.colab.kernel.invokeFunction('convertToInteractive',\n",
              "                                                     [key], {});\n",
              "          if (!dataTable) return;\n",
              "\n",
              "          const docLinkHtml = 'Like what you see? Visit the ' +\n",
              "            '<a target=\"_blank\" href=https://colab.research.google.com/notebooks/data_table.ipynb>data table notebook</a>'\n",
              "            + ' to learn more about interactive tables.';\n",
              "          element.innerHTML = '';\n",
              "          dataTable['output_type'] = 'display_data';\n",
              "          await google.colab.output.renderOutput(dataTable, element);\n",
              "          const docLink = document.createElement('div');\n",
              "          docLink.innerHTML = docLinkHtml;\n",
              "          element.appendChild(docLink);\n",
              "        }\n",
              "      </script>\n",
              "    </div>\n",
              "  </div>\n",
              "  "
            ]
          },
          "metadata": {},
          "execution_count": 15
        }
      ]
    },
    {
      "cell_type": "code",
      "source": [
        "# Realizando as previsões\n",
        "previsao_Prophet = modelo.predict(st_futuro)"
      ],
      "metadata": {
        "id": "LdpOyIxs9qWT"
      },
      "execution_count": 16,
      "outputs": []
    },
    {
      "cell_type": "code",
      "source": [
        "# Entendo a estrutura do df resultante da previsao\n",
        "previsao_Prophet.info()"
      ],
      "metadata": {
        "colab": {
          "base_uri": "https://localhost:8080/"
        },
        "id": "Pdtjf_as-Hpg",
        "outputId": "c05a12c0-6dcc-41c3-a139-bf25c2eebb25"
      },
      "execution_count": 17,
      "outputs": [
        {
          "output_type": "stream",
          "name": "stdout",
          "text": [
            "<class 'pandas.core.frame.DataFrame'>\n",
            "RangeIndex: 161 entries, 0 to 160\n",
            "Data columns (total 16 columns):\n",
            " #   Column                      Non-Null Count  Dtype         \n",
            "---  ------                      --------------  -----         \n",
            " 0   ds                          161 non-null    datetime64[ns]\n",
            " 1   trend                       161 non-null    float64       \n",
            " 2   yhat_lower                  161 non-null    float64       \n",
            " 3   yhat_upper                  161 non-null    float64       \n",
            " 4   trend_lower                 161 non-null    float64       \n",
            " 5   trend_upper                 161 non-null    float64       \n",
            " 6   additive_terms              161 non-null    float64       \n",
            " 7   additive_terms_lower        161 non-null    float64       \n",
            " 8   additive_terms_upper        161 non-null    float64       \n",
            " 9   yearly                      161 non-null    float64       \n",
            " 10  yearly_lower                161 non-null    float64       \n",
            " 11  yearly_upper                161 non-null    float64       \n",
            " 12  multiplicative_terms        161 non-null    float64       \n",
            " 13  multiplicative_terms_lower  161 non-null    float64       \n",
            " 14  multiplicative_terms_upper  161 non-null    float64       \n",
            " 15  yhat                        161 non-null    float64       \n",
            "dtypes: datetime64[ns](1), float64(15)\n",
            "memory usage: 20.2 KB\n"
          ]
        }
      ]
    },
    {
      "cell_type": "code",
      "source": [
        "# Visualizando somente previsoes das ultimas instâncias\n",
        "previsao_Prophet[['ds', 'yhat', 'yhat_lower', 'yhat_upper']].tail()"
      ],
      "metadata": {
        "colab": {
          "base_uri": "https://localhost:8080/",
          "height": 206
        },
        "id": "Xojporl4-GH7",
        "outputId": "5e8e23f2-3164-41c4-d307-156334e71d2a"
      },
      "execution_count": 18,
      "outputs": [
        {
          "output_type": "execute_result",
          "data": {
            "text/plain": [
              "            ds          yhat    yhat_lower    yhat_upper\n",
              "156 2013-01-27  4.367588e+07  3.909570e+07  4.812052e+07\n",
              "157 2013-02-03  4.832148e+07  4.388246e+07  5.248656e+07\n",
              "158 2013-02-10  4.987345e+07  4.515605e+07  5.416202e+07\n",
              "159 2013-02-17  4.880253e+07  4.417392e+07  5.315698e+07\n",
              "160 2013-02-24  4.740317e+07  4.270233e+07  5.167840e+07"
            ],
            "text/html": [
              "\n",
              "  <div id=\"df-7b1d8ace-4135-4540-9e9f-8e1d76a5fe7b\">\n",
              "    <div class=\"colab-df-container\">\n",
              "      <div>\n",
              "<style scoped>\n",
              "    .dataframe tbody tr th:only-of-type {\n",
              "        vertical-align: middle;\n",
              "    }\n",
              "\n",
              "    .dataframe tbody tr th {\n",
              "        vertical-align: top;\n",
              "    }\n",
              "\n",
              "    .dataframe thead th {\n",
              "        text-align: right;\n",
              "    }\n",
              "</style>\n",
              "<table border=\"1\" class=\"dataframe\">\n",
              "  <thead>\n",
              "    <tr style=\"text-align: right;\">\n",
              "      <th></th>\n",
              "      <th>ds</th>\n",
              "      <th>yhat</th>\n",
              "      <th>yhat_lower</th>\n",
              "      <th>yhat_upper</th>\n",
              "    </tr>\n",
              "  </thead>\n",
              "  <tbody>\n",
              "    <tr>\n",
              "      <th>156</th>\n",
              "      <td>2013-01-27</td>\n",
              "      <td>4.367588e+07</td>\n",
              "      <td>3.909570e+07</td>\n",
              "      <td>4.812052e+07</td>\n",
              "    </tr>\n",
              "    <tr>\n",
              "      <th>157</th>\n",
              "      <td>2013-02-03</td>\n",
              "      <td>4.832148e+07</td>\n",
              "      <td>4.388246e+07</td>\n",
              "      <td>5.248656e+07</td>\n",
              "    </tr>\n",
              "    <tr>\n",
              "      <th>158</th>\n",
              "      <td>2013-02-10</td>\n",
              "      <td>4.987345e+07</td>\n",
              "      <td>4.515605e+07</td>\n",
              "      <td>5.416202e+07</td>\n",
              "    </tr>\n",
              "    <tr>\n",
              "      <th>159</th>\n",
              "      <td>2013-02-17</td>\n",
              "      <td>4.880253e+07</td>\n",
              "      <td>4.417392e+07</td>\n",
              "      <td>5.315698e+07</td>\n",
              "    </tr>\n",
              "    <tr>\n",
              "      <th>160</th>\n",
              "      <td>2013-02-24</td>\n",
              "      <td>4.740317e+07</td>\n",
              "      <td>4.270233e+07</td>\n",
              "      <td>5.167840e+07</td>\n",
              "    </tr>\n",
              "  </tbody>\n",
              "</table>\n",
              "</div>\n",
              "      <button class=\"colab-df-convert\" onclick=\"convertToInteractive('df-7b1d8ace-4135-4540-9e9f-8e1d76a5fe7b')\"\n",
              "              title=\"Convert this dataframe to an interactive table.\"\n",
              "              style=\"display:none;\">\n",
              "        \n",
              "  <svg xmlns=\"http://www.w3.org/2000/svg\" height=\"24px\"viewBox=\"0 0 24 24\"\n",
              "       width=\"24px\">\n",
              "    <path d=\"M0 0h24v24H0V0z\" fill=\"none\"/>\n",
              "    <path d=\"M18.56 5.44l.94 2.06.94-2.06 2.06-.94-2.06-.94-.94-2.06-.94 2.06-2.06.94zm-11 1L8.5 8.5l.94-2.06 2.06-.94-2.06-.94L8.5 2.5l-.94 2.06-2.06.94zm10 10l.94 2.06.94-2.06 2.06-.94-2.06-.94-.94-2.06-.94 2.06-2.06.94z\"/><path d=\"M17.41 7.96l-1.37-1.37c-.4-.4-.92-.59-1.43-.59-.52 0-1.04.2-1.43.59L10.3 9.45l-7.72 7.72c-.78.78-.78 2.05 0 2.83L4 21.41c.39.39.9.59 1.41.59.51 0 1.02-.2 1.41-.59l7.78-7.78 2.81-2.81c.8-.78.8-2.07 0-2.86zM5.41 20L4 18.59l7.72-7.72 1.47 1.35L5.41 20z\"/>\n",
              "  </svg>\n",
              "      </button>\n",
              "      \n",
              "  <style>\n",
              "    .colab-df-container {\n",
              "      display:flex;\n",
              "      flex-wrap:wrap;\n",
              "      gap: 12px;\n",
              "    }\n",
              "\n",
              "    .colab-df-convert {\n",
              "      background-color: #E8F0FE;\n",
              "      border: none;\n",
              "      border-radius: 50%;\n",
              "      cursor: pointer;\n",
              "      display: none;\n",
              "      fill: #1967D2;\n",
              "      height: 32px;\n",
              "      padding: 0 0 0 0;\n",
              "      width: 32px;\n",
              "    }\n",
              "\n",
              "    .colab-df-convert:hover {\n",
              "      background-color: #E2EBFA;\n",
              "      box-shadow: 0px 1px 2px rgba(60, 64, 67, 0.3), 0px 1px 3px 1px rgba(60, 64, 67, 0.15);\n",
              "      fill: #174EA6;\n",
              "    }\n",
              "\n",
              "    [theme=dark] .colab-df-convert {\n",
              "      background-color: #3B4455;\n",
              "      fill: #D2E3FC;\n",
              "    }\n",
              "\n",
              "    [theme=dark] .colab-df-convert:hover {\n",
              "      background-color: #434B5C;\n",
              "      box-shadow: 0px 1px 3px 1px rgba(0, 0, 0, 0.15);\n",
              "      filter: drop-shadow(0px 1px 2px rgba(0, 0, 0, 0.3));\n",
              "      fill: #FFFFFF;\n",
              "    }\n",
              "  </style>\n",
              "\n",
              "      <script>\n",
              "        const buttonEl =\n",
              "          document.querySelector('#df-7b1d8ace-4135-4540-9e9f-8e1d76a5fe7b button.colab-df-convert');\n",
              "        buttonEl.style.display =\n",
              "          google.colab.kernel.accessAllowed ? 'block' : 'none';\n",
              "\n",
              "        async function convertToInteractive(key) {\n",
              "          const element = document.querySelector('#df-7b1d8ace-4135-4540-9e9f-8e1d76a5fe7b');\n",
              "          const dataTable =\n",
              "            await google.colab.kernel.invokeFunction('convertToInteractive',\n",
              "                                                     [key], {});\n",
              "          if (!dataTable) return;\n",
              "\n",
              "          const docLinkHtml = 'Like what you see? Visit the ' +\n",
              "            '<a target=\"_blank\" href=https://colab.research.google.com/notebooks/data_table.ipynb>data table notebook</a>'\n",
              "            + ' to learn more about interactive tables.';\n",
              "          element.innerHTML = '';\n",
              "          dataTable['output_type'] = 'display_data';\n",
              "          await google.colab.output.renderOutput(dataTable, element);\n",
              "          const docLink = document.createElement('div');\n",
              "          docLink.innerHTML = docLinkHtml;\n",
              "          element.appendChild(docLink);\n",
              "        }\n",
              "      </script>\n",
              "    </div>\n",
              "  </div>\n",
              "  "
            ]
          },
          "metadata": {},
          "execution_count": 18
        }
      ]
    },
    {
      "cell_type": "code",
      "source": [
        "# Fazendo grafico da previsao\n",
        "grafico_previsao_Prophet = modelo.plot(previsao_Prophet)\n",
        "grafico_previsao_Prophet.show()"
      ],
      "metadata": {
        "colab": {
          "base_uri": "https://localhost:8080/",
          "height": 441
        },
        "id": "nlqhJvnF-xIk",
        "outputId": "7a1a50dd-bb8b-484d-ba82-8c95a3273bfa"
      },
      "execution_count": 19,
      "outputs": [
        {
          "output_type": "display_data",
          "data": {
            "text/plain": [
              "<Figure size 720x432 with 1 Axes>"
            ],
            "image/png": "[encoded data removed]"
          },
          "metadata": {}
        }
      ]
    }
  ],
  "metadata": {
    "colab": {
      "collapsed_sections": [],
      "name": "DDS_Flai_Series_Temporais_Prophet_Vendas_Walmart.ipynb",
      "provenance": []
    },
    "kernelspec": {
      "display_name": "Python 3",
      "language": "python",
      "name": "python3"
    },
    "language_info": {
      "codemirror_mode": {
        "name": "ipython",
        "version": 3
      },
      "file_extension": ".py",
      "mimetype": "text/x-python",
      "name": "python",
      "nbconvert_exporter": "python",
      "pygments_lexer": "ipython3",
      "version": "3.9.2"
    }
  },
  "nbformat": 4,
  "nbformat_minor": 0
}